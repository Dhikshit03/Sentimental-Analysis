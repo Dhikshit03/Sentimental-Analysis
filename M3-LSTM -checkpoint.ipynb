{
 "cells": [
  {
   "cell_type": "markdown",
   "id": "58a7dc8d",
   "metadata": {},
   "source": [
    "### LSTM ARCHITECTURE"
   ]
  },
  {
   "cell_type": "code",
   "execution_count": 1,
   "id": "f40f6596",
   "metadata": {},
   "outputs": [],
   "source": [
    "import pandas as pd\n",
    "import numpy as np"
   ]
  },
  {
   "cell_type": "code",
   "execution_count": 2,
   "id": "62beca64",
   "metadata": {},
   "outputs": [
    {
     "data": {
      "text/html": [
       "<div>\n",
       "<style scoped>\n",
       "    .dataframe tbody tr th:only-of-type {\n",
       "        vertical-align: middle;\n",
       "    }\n",
       "\n",
       "    .dataframe tbody tr th {\n",
       "        vertical-align: top;\n",
       "    }\n",
       "\n",
       "    .dataframe thead th {\n",
       "        text-align: right;\n",
       "    }\n",
       "</style>\n",
       "<table border=\"1\" class=\"dataframe\">\n",
       "  <thead>\n",
       "    <tr style=\"text-align: right;\">\n",
       "      <th></th>\n",
       "      <th>Emotion</th>\n",
       "      <th>Text</th>\n",
       "    </tr>\n",
       "  </thead>\n",
       "  <tbody>\n",
       "    <tr>\n",
       "      <th>0</th>\n",
       "      <td>neutral</td>\n",
       "      <td>Why ?</td>\n",
       "    </tr>\n",
       "    <tr>\n",
       "      <th>1</th>\n",
       "      <td>joy</td>\n",
       "      <td>Sage Act upgrade on my to do list for tommorow.</td>\n",
       "    </tr>\n",
       "    <tr>\n",
       "      <th>2</th>\n",
       "      <td>sadness</td>\n",
       "      <td>ON THE WAY TO MY HOMEGIRL BABY FUNERAL!!! MAN ...</td>\n",
       "    </tr>\n",
       "    <tr>\n",
       "      <th>3</th>\n",
       "      <td>joy</td>\n",
       "      <td>Such an eye ! The true hazel eye-and so brill...</td>\n",
       "    </tr>\n",
       "    <tr>\n",
       "      <th>4</th>\n",
       "      <td>joy</td>\n",
       "      <td>@Iluvmiasantos ugh babe.. hugggzzz for u .!  b...</td>\n",
       "    </tr>\n",
       "  </tbody>\n",
       "</table>\n",
       "</div>"
      ],
      "text/plain": [
       "   Emotion                                               Text\n",
       "0  neutral                                             Why ? \n",
       "1      joy    Sage Act upgrade on my to do list for tommorow.\n",
       "2  sadness  ON THE WAY TO MY HOMEGIRL BABY FUNERAL!!! MAN ...\n",
       "3      joy   Such an eye ! The true hazel eye-and so brill...\n",
       "4      joy  @Iluvmiasantos ugh babe.. hugggzzz for u .!  b..."
      ]
     },
     "execution_count": 2,
     "metadata": {},
     "output_type": "execute_result"
    }
   ],
   "source": [
    "Data = pd.read_csv('emotion.csv')\n",
    "Data.head()"
   ]
  },
  {
   "cell_type": "code",
   "execution_count": 3,
   "id": "43b4bf60",
   "metadata": {},
   "outputs": [
    {
     "data": {
      "text/html": [
       "<div>\n",
       "<style scoped>\n",
       "    .dataframe tbody tr th:only-of-type {\n",
       "        vertical-align: middle;\n",
       "    }\n",
       "\n",
       "    .dataframe tbody tr th {\n",
       "        vertical-align: top;\n",
       "    }\n",
       "\n",
       "    .dataframe thead th {\n",
       "        text-align: right;\n",
       "    }\n",
       "</style>\n",
       "<table border=\"1\" class=\"dataframe\">\n",
       "  <thead>\n",
       "    <tr style=\"text-align: right;\">\n",
       "      <th></th>\n",
       "      <th>Emotion</th>\n",
       "      <th>Text</th>\n",
       "    </tr>\n",
       "  </thead>\n",
       "  <tbody>\n",
       "    <tr>\n",
       "      <th>34787</th>\n",
       "      <td>surprise</td>\n",
       "      <td>@MichelGW have you gift! Hope you like it! It'...</td>\n",
       "    </tr>\n",
       "    <tr>\n",
       "      <th>34788</th>\n",
       "      <td>joy</td>\n",
       "      <td>The world didnt give it to me..so the world MO...</td>\n",
       "    </tr>\n",
       "    <tr>\n",
       "      <th>34789</th>\n",
       "      <td>anger</td>\n",
       "      <td>A man robbed me today .</td>\n",
       "    </tr>\n",
       "    <tr>\n",
       "      <th>34790</th>\n",
       "      <td>fear</td>\n",
       "      <td>Youu call it JEALOUSY, I call it of #Losing YO...</td>\n",
       "    </tr>\n",
       "    <tr>\n",
       "      <th>34791</th>\n",
       "      <td>sadness</td>\n",
       "      <td>I think about you baby, and I dream about you ...</td>\n",
       "    </tr>\n",
       "  </tbody>\n",
       "</table>\n",
       "</div>"
      ],
      "text/plain": [
       "        Emotion                                               Text\n",
       "34787  surprise  @MichelGW have you gift! Hope you like it! It'...\n",
       "34788       joy  The world didnt give it to me..so the world MO...\n",
       "34789     anger                           A man robbed me today . \n",
       "34790      fear  Youu call it JEALOUSY, I call it of #Losing YO...\n",
       "34791   sadness  I think about you baby, and I dream about you ..."
      ]
     },
     "execution_count": 3,
     "metadata": {},
     "output_type": "execute_result"
    }
   ],
   "source": [
    "Data.tail()"
   ]
  },
  {
   "cell_type": "code",
   "execution_count": 4,
   "id": "59b21d72",
   "metadata": {},
   "outputs": [
    {
     "data": {
      "text/plain": [
       "Emotion\n",
       "joy         11045\n",
       "sadness      6722\n",
       "fear         5410\n",
       "anger        4297\n",
       "surprise     4062\n",
       "neutral      2254\n",
       "disgust       856\n",
       "shame         146\n",
       "Name: count, dtype: int64"
      ]
     },
     "execution_count": 4,
     "metadata": {},
     "output_type": "execute_result"
    }
   ],
   "source": [
    "Data['Emotion'].value_counts()"
   ]
  },
  {
   "cell_type": "code",
   "execution_count": 5,
   "id": "15eeec04",
   "metadata": {},
   "outputs": [],
   "source": [
    "Data['Text'] = Data['Text'].apply(lambda x: x.lower() if pd.notna(x) else \"\")"
   ]
  },
  {
   "cell_type": "code",
   "execution_count": 6,
   "id": "7537b6b5",
   "metadata": {},
   "outputs": [],
   "source": [
    "from sklearn.preprocessing import LabelEncoder\n",
    "\n",
    "label_encoder = LabelEncoder()\n",
    "Data['Emotion'] = label_encoder.fit_transform(Data['Emotion'])"
   ]
  },
  {
   "cell_type": "code",
   "execution_count": 7,
   "id": "92676667",
   "metadata": {},
   "outputs": [],
   "source": [
    "num_classes = len(label_encoder.classes_) "
   ]
  },
  {
   "cell_type": "code",
   "execution_count": 8,
   "id": "753f4b88",
   "metadata": {},
   "outputs": [],
   "source": [
    "x = Data['Text']\n",
    "y = Data['Emotion']"
   ]
  },
  {
   "cell_type": "code",
   "execution_count": 9,
   "id": "6369e19b",
   "metadata": {},
   "outputs": [
    {
     "name": "stdout",
     "output_type": "stream",
     "text": [
      "WARNING:tensorflow:From F:\\SOFTWARE\\Anaconda\\Lib\\site-packages\\keras\\src\\losses.py:2976: The name tf.losses.sparse_softmax_cross_entropy is deprecated. Please use tf.compat.v1.losses.sparse_softmax_cross_entropy instead.\n",
      "\n"
     ]
    }
   ],
   "source": [
    "from tensorflow.keras.utils import to_categorical\n",
    "\n",
    "y = to_categorical(y, num_classes=num_classes)"
   ]
  },
  {
   "cell_type": "code",
   "execution_count": 10,
   "id": "526d9637",
   "metadata": {},
   "outputs": [],
   "source": [
    "from sklearn.model_selection import train_test_split\n",
    "\n",
    "x_train, x_test, y_train, y_test = train_test_split(x, y, test_size=0.2, random_state=42)"
   ]
  },
  {
   "cell_type": "code",
   "execution_count": 11,
   "id": "10b2f33c",
   "metadata": {},
   "outputs": [],
   "source": [
    "max_words = 10000  \n",
    "max_sequence_length = 100"
   ]
  },
  {
   "cell_type": "code",
   "execution_count": 12,
   "id": "b94b922f",
   "metadata": {},
   "outputs": [],
   "source": [
    "from tensorflow.keras.preprocessing.text import Tokenizer\n",
    "\n",
    "tokenizer = Tokenizer(num_words=max_words)\n",
    "tokenizer.fit_on_texts(x_train)"
   ]
  },
  {
   "cell_type": "code",
   "execution_count": 13,
   "id": "8f4e9c46",
   "metadata": {},
   "outputs": [],
   "source": [
    "X_train_sequences = tokenizer.texts_to_sequences(x_train)\n",
    "X_test_sequences = tokenizer.texts_to_sequences(x_test)"
   ]
  },
  {
   "cell_type": "code",
   "execution_count": 14,
   "id": "6f831140",
   "metadata": {},
   "outputs": [],
   "source": [
    "from tensorflow.keras.preprocessing.sequence import pad_sequences\n",
    "\n",
    "X_train_padded = pad_sequences(X_train_sequences, maxlen=max_sequence_length)\n",
    "X_test_padded = pad_sequences(X_test_sequences, maxlen=max_sequence_length)"
   ]
  },
  {
   "cell_type": "code",
   "execution_count": 15,
   "id": "490ac782",
   "metadata": {},
   "outputs": [],
   "source": [
    "embedding_dim = 100  \n",
    "lstm_units = 128"
   ]
  },
  {
   "cell_type": "code",
   "execution_count": 16,
   "id": "e8491acc",
   "metadata": {},
   "outputs": [],
   "source": [
    "from tensorflow.keras.models import Sequential\n",
    "from tensorflow.keras.layers import Embedding\n",
    "from tensorflow.keras.layers import Bidirectional\n",
    "from tensorflow.keras.layers import LSTM\n",
    "from tensorflow.keras.layers import Dense"
   ]
  },
  {
   "cell_type": "code",
   "execution_count": 17,
   "id": "52b2d9ee",
   "metadata": {},
   "outputs": [
    {
     "name": "stdout",
     "output_type": "stream",
     "text": [
      "WARNING:tensorflow:From F:\\SOFTWARE\\Anaconda\\Lib\\site-packages\\keras\\src\\backend.py:873: The name tf.get_default_graph is deprecated. Please use tf.compat.v1.get_default_graph instead.\n",
      "\n"
     ]
    }
   ],
   "source": [
    "model = Sequential()\n",
    "model.add(Embedding(input_dim=max_words, output_dim=embedding_dim, input_length=max_sequence_length))\n",
    "model.add(Bidirectional(LSTM(units=lstm_units, dropout=0.2, recurrent_dropout=0.2)))\n",
    "model.add(Dense(units=num_classes, activation='softmax'))"
   ]
  },
  {
   "cell_type": "code",
   "execution_count": 18,
   "id": "db721ff6",
   "metadata": {},
   "outputs": [
    {
     "name": "stdout",
     "output_type": "stream",
     "text": [
      "WARNING:tensorflow:From F:\\SOFTWARE\\Anaconda\\Lib\\site-packages\\keras\\src\\optimizers\\__init__.py:309: The name tf.train.Optimizer is deprecated. Please use tf.compat.v1.train.Optimizer instead.\n",
      "\n"
     ]
    }
   ],
   "source": [
    "model.compile(loss='categorical_crossentropy', optimizer='adam', metrics=['accuracy'])"
   ]
  },
  {
   "cell_type": "code",
   "execution_count": 19,
   "id": "34a45025",
   "metadata": {},
   "outputs": [],
   "source": [
    "epochs = 20\n",
    "batch_size = 32"
   ]
  },
  {
   "cell_type": "code",
   "execution_count": 20,
   "id": "9a459487",
   "metadata": {},
   "outputs": [],
   "source": [
    "from tensorflow.keras.callbacks import ModelCheckpoint\n",
    "\n",
    "model_checkpoint = ModelCheckpoint('EMOTION.h5', \n",
    "                                   monitor='accuracy', \n",
    "                                   save_best_only=True, \n",
    "                                   verbose=1,\n",
    "                                   mode='max')"
   ]
  },
  {
   "cell_type": "code",
   "execution_count": 21,
   "id": "1a806964",
   "metadata": {},
   "outputs": [
    {
     "name": "stdout",
     "output_type": "stream",
     "text": [
      "Epoch 1/20\n",
      "WARNING:tensorflow:From F:\\SOFTWARE\\Anaconda\\Lib\\site-packages\\keras\\src\\utils\\tf_utils.py:492: The name tf.ragged.RaggedTensorValue is deprecated. Please use tf.compat.v1.ragged.RaggedTensorValue instead.\n",
      "\n",
      "WARNING:tensorflow:From F:\\SOFTWARE\\Anaconda\\Lib\\site-packages\\keras\\src\\engine\\base_layer_utils.py:384: The name tf.executing_eagerly_outside_functions is deprecated. Please use tf.compat.v1.executing_eagerly_outside_functions instead.\n",
      "\n",
      "783/783 [==============================] - ETA: 0s - loss: 1.3569 - accuracy: 0.5003\n",
      "Epoch 1: accuracy improved from -inf to 0.50034, saving model to EMOTION.h5\n",
      "783/783 [==============================] - 386s 478ms/step - loss: 1.3569 - accuracy: 0.5003 - val_loss: 1.1631 - val_accuracy: 0.5934\n",
      "Epoch 2/20\n"
     ]
    },
    {
     "name": "stderr",
     "output_type": "stream",
     "text": [
      "F:\\SOFTWARE\\Anaconda\\Lib\\site-packages\\keras\\src\\engine\\training.py:3103: UserWarning: You are saving your model as an HDF5 file via `model.save()`. This file format is considered legacy. We recommend using instead the native Keras format, e.g. `model.save('my_model.keras')`.\n",
      "  saving_api.save_model(\n"
     ]
    },
    {
     "name": "stdout",
     "output_type": "stream",
     "text": [
      "783/783 [==============================] - ETA: 0s - loss: 0.8987 - accuracy: 0.6940\n",
      "Epoch 2: accuracy improved from 0.50034 to 0.69404, saving model to EMOTION.h5\n",
      "783/783 [==============================] - 368s 469ms/step - loss: 0.8987 - accuracy: 0.6940 - val_loss: 1.0981 - val_accuracy: 0.6239\n",
      "Epoch 3/20\n",
      "783/783 [==============================] - ETA: 0s - loss: 0.7046 - accuracy: 0.7618\n",
      "Epoch 3: accuracy improved from 0.69404 to 0.76179, saving model to EMOTION.h5\n",
      "783/783 [==============================] - 304s 389ms/step - loss: 0.7046 - accuracy: 0.7618 - val_loss: 1.1469 - val_accuracy: 0.6114\n",
      "Epoch 4/20\n",
      "783/783 [==============================] - ETA: 0s - loss: 0.5740 - accuracy: 0.8089\n",
      "Epoch 4: accuracy improved from 0.76179 to 0.80893, saving model to EMOTION.h5\n",
      "783/783 [==============================] - 289s 369ms/step - loss: 0.5740 - accuracy: 0.8089 - val_loss: 1.2946 - val_accuracy: 0.6031\n",
      "Epoch 5/20\n",
      "783/783 [==============================] - ETA: 0s - loss: 0.4758 - accuracy: 0.8412\n",
      "Epoch 5: accuracy improved from 0.80893 to 0.84123, saving model to EMOTION.h5\n",
      "783/783 [==============================] - 340s 435ms/step - loss: 0.4758 - accuracy: 0.8412 - val_loss: 1.3050 - val_accuracy: 0.6031\n",
      "Epoch 6/20\n",
      "783/783 [==============================] - ETA: 0s - loss: 0.4020 - accuracy: 0.8667\n",
      "Epoch 6: accuracy improved from 0.84123 to 0.86670, saving model to EMOTION.h5\n",
      "783/783 [==============================] - 282s 360ms/step - loss: 0.4020 - accuracy: 0.8667 - val_loss: 1.4523 - val_accuracy: 0.5966\n",
      "Epoch 7/20\n",
      "783/783 [==============================] - ETA: 0s - loss: 0.3392 - accuracy: 0.8880\n",
      "Epoch 7: accuracy improved from 0.86670 to 0.88802, saving model to EMOTION.h5\n",
      "783/783 [==============================] - 286s 366ms/step - loss: 0.3392 - accuracy: 0.8880 - val_loss: 1.6564 - val_accuracy: 0.5959\n",
      "Epoch 8/20\n",
      "783/783 [==============================] - ETA: 0s - loss: 0.2823 - accuracy: 0.9057\n",
      "Epoch 8: accuracy improved from 0.88802 to 0.90566, saving model to EMOTION.h5\n",
      "783/783 [==============================] - 289s 368ms/step - loss: 0.2823 - accuracy: 0.9057 - val_loss: 1.8536 - val_accuracy: 0.6027\n",
      "Epoch 9/20\n",
      "783/783 [==============================] - ETA: 0s - loss: 0.2423 - accuracy: 0.9188\n",
      "Epoch 9: accuracy improved from 0.90566 to 0.91880, saving model to EMOTION.h5\n",
      "783/783 [==============================] - 285s 364ms/step - loss: 0.2423 - accuracy: 0.9188 - val_loss: 1.9061 - val_accuracy: 0.5970\n",
      "Epoch 10/20\n",
      "783/783 [==============================] - ETA: 0s - loss: 0.2060 - accuracy: 0.9311\n",
      "Epoch 10: accuracy improved from 0.91880 to 0.93106, saving model to EMOTION.h5\n",
      "783/783 [==============================] - 296s 378ms/step - loss: 0.2060 - accuracy: 0.9311 - val_loss: 2.0986 - val_accuracy: 0.5970\n",
      "Epoch 11/20\n",
      "783/783 [==============================] - ETA: 0s - loss: 0.1823 - accuracy: 0.9398\n",
      "Epoch 11: accuracy improved from 0.93106 to 0.93976, saving model to EMOTION.h5\n",
      "783/783 [==============================] - 351s 449ms/step - loss: 0.1823 - accuracy: 0.9398 - val_loss: 2.2363 - val_accuracy: 0.5948\n",
      "Epoch 12/20\n",
      "783/783 [==============================] - ETA: 0s - loss: 0.1574 - accuracy: 0.9474\n",
      "Epoch 12: accuracy improved from 0.93976 to 0.94738, saving model to EMOTION.h5\n",
      "783/783 [==============================] - 370s 472ms/step - loss: 0.1574 - accuracy: 0.9474 - val_loss: 2.3933 - val_accuracy: 0.5884\n",
      "Epoch 13/20\n",
      "783/783 [==============================] - ETA: 0s - loss: 0.1387 - accuracy: 0.9543\n",
      "Epoch 13: accuracy improved from 0.94738 to 0.95429, saving model to EMOTION.h5\n",
      "783/783 [==============================] - 298s 381ms/step - loss: 0.1387 - accuracy: 0.9543 - val_loss: 2.5480 - val_accuracy: 0.5887\n",
      "Epoch 14/20\n",
      "783/783 [==============================] - ETA: 0s - loss: 0.1217 - accuracy: 0.9602\n",
      "Epoch 14: accuracy improved from 0.95429 to 0.96024, saving model to EMOTION.h5\n",
      "783/783 [==============================] - 307s 392ms/step - loss: 0.1217 - accuracy: 0.9602 - val_loss: 2.5607 - val_accuracy: 0.5862\n",
      "Epoch 15/20\n",
      "783/783 [==============================] - ETA: 0s - loss: 0.1101 - accuracy: 0.9642\n",
      "Epoch 15: accuracy improved from 0.96024 to 0.96419, saving model to EMOTION.h5\n",
      "783/783 [==============================] - 293s 375ms/step - loss: 0.1101 - accuracy: 0.9642 - val_loss: 2.7638 - val_accuracy: 0.5851\n",
      "Epoch 16/20\n",
      "783/783 [==============================] - ETA: 0s - loss: 0.0969 - accuracy: 0.9677\n",
      "Epoch 16: accuracy improved from 0.96419 to 0.96774, saving model to EMOTION.h5\n",
      "783/783 [==============================] - 294s 375ms/step - loss: 0.0969 - accuracy: 0.9677 - val_loss: 2.9124 - val_accuracy: 0.5844\n",
      "Epoch 17/20\n",
      "783/783 [==============================] - ETA: 0s - loss: 0.0885 - accuracy: 0.9723\n",
      "Epoch 17: accuracy improved from 0.96774 to 0.97229, saving model to EMOTION.h5\n",
      "783/783 [==============================] - 295s 376ms/step - loss: 0.0885 - accuracy: 0.9723 - val_loss: 2.9234 - val_accuracy: 0.5848\n",
      "Epoch 18/20\n",
      "783/783 [==============================] - ETA: 0s - loss: 0.0801 - accuracy: 0.9734\n",
      "Epoch 18: accuracy improved from 0.97229 to 0.97337, saving model to EMOTION.h5\n",
      "783/783 [==============================] - 325s 415ms/step - loss: 0.0801 - accuracy: 0.9734 - val_loss: 3.1292 - val_accuracy: 0.5823\n",
      "Epoch 19/20\n",
      "783/783 [==============================] - ETA: 0s - loss: 0.0736 - accuracy: 0.9755\n",
      "Epoch 19: accuracy improved from 0.97337 to 0.97549, saving model to EMOTION.h5\n",
      "783/783 [==============================] - 372s 476ms/step - loss: 0.0736 - accuracy: 0.9755 - val_loss: 3.1873 - val_accuracy: 0.5894\n",
      "Epoch 20/20\n",
      "783/783 [==============================] - ETA: 0s - loss: 0.0657 - accuracy: 0.9781\n",
      "Epoch 20: accuracy improved from 0.97549 to 0.97808, saving model to EMOTION.h5\n",
      "783/783 [==============================] - 315s 402ms/step - loss: 0.0657 - accuracy: 0.9781 - val_loss: 3.2839 - val_accuracy: 0.5851\n"
     ]
    },
    {
     "data": {
      "text/plain": [
       "<keras.src.callbacks.History at 0x1a46e31ead0>"
      ]
     },
     "execution_count": 21,
     "metadata": {},
     "output_type": "execute_result"
    }
   ],
   "source": [
    "model.fit(X_train_padded, y_train, epochs=epochs, batch_size=batch_size, validation_split=0.1,callbacks=[model_checkpoint])"
   ]
  },
  {
   "cell_type": "code",
   "execution_count": 22,
   "id": "cb25308f",
   "metadata": {},
   "outputs": [
    {
     "name": "stdout",
     "output_type": "stream",
     "text": [
      "218/218 [==============================] - 9s 39ms/step\n"
     ]
    }
   ],
   "source": [
    "y_pred = model.predict(X_test_padded)\n",
    "y_pred_classes = np.argmax(y_pred, axis=1)\n",
    "y_true_classes = np.argmax(y_test, axis=1)"
   ]
  },
  {
   "cell_type": "code",
   "execution_count": 23,
   "id": "a6f0f26b",
   "metadata": {},
   "outputs": [
    {
     "name": "stdout",
     "output_type": "stream",
     "text": [
      "THE ACCURACY SCORE OF LSTM ARCHITECTURE IS : 59.39071705704843\n"
     ]
    }
   ],
   "source": [
    "from sklearn.metrics import accuracy_score\n",
    "\n",
    "AC = accuracy_score(y_true_classes,y_pred_classes)\n",
    "\n",
    "print(\"THE ACCURACY SCORE OF LSTM ARCHITECTURE IS :\",AC*100)"
   ]
  },
  {
   "cell_type": "code",
   "execution_count": 24,
   "id": "f6ced910",
   "metadata": {},
   "outputs": [
    {
     "name": "stdout",
     "output_type": "stream",
     "text": [
      "THE HAMMING LOSS OF LSTM ARCHITECTURE IS : 40.60928294295157\n"
     ]
    }
   ],
   "source": [
    "from sklearn.metrics import hamming_loss\n",
    "\n",
    "HL = hamming_loss(y_true_classes,y_pred_classes)\n",
    "\n",
    "print(\"THE HAMMING LOSS OF LSTM ARCHITECTURE IS :\",HL*100)"
   ]
  },
  {
   "cell_type": "code",
   "execution_count": 30,
   "id": "7f1c3938",
   "metadata": {},
   "outputs": [
    {
     "name": "stdout",
     "output_type": "stream",
     "text": [
      "THE PRECISION SCORE OF LSTM ARCHITECTURE:\n",
      "\n",
      "\n",
      " 59.39071705704843\n"
     ]
    }
   ],
   "source": [
    "from sklearn.metrics import precision_score\n",
    "\n",
    "PR = precision_score(y_pred_classes,y_true_classes, average='micro')\n",
    "\n",
    "print('THE PRECISION SCORE OF LSTM ARCHITECTURE:\\n\\n\\n',PR*100)"
   ]
  },
  {
   "cell_type": "code",
   "execution_count": 33,
   "id": "608b7c34",
   "metadata": {},
   "outputs": [
    {
     "name": "stdout",
     "output_type": "stream",
     "text": [
      "THE RECALL SCORE OF LSTM ARCHITECTURE:\n",
      "\n",
      "\n",
      " 59.39071705704843\n"
     ]
    }
   ],
   "source": [
    "from sklearn.metrics import recall_score\n",
    "\n",
    "RE = recall_score(y_pred_classes,y_true_classes, average='micro')\n",
    "\n",
    "print('THE RECALL SCORE OF LSTM ARCHITECTURE:\\n\\n\\n',RE*100)"
   ]
  },
  {
   "cell_type": "code",
   "execution_count": 34,
   "id": "2f650580",
   "metadata": {},
   "outputs": [
    {
     "name": "stdout",
     "output_type": "stream",
     "text": [
      "THE F1 SCORE OF LSTM ARCHITECTURE:\n",
      "\n",
      "\n",
      " 59.39071705704843\n"
     ]
    }
   ],
   "source": [
    "from sklearn.metrics import f1_score\n",
    "\n",
    "F1 = f1_score(y_pred_classes,y_true_classes, average='micro')\n",
    "\n",
    "print('THE F1 SCORE OF LSTM ARCHITECTURE:\\n\\n\\n',F1*100)"
   ]
  },
  {
   "cell_type": "code",
   "execution_count": 37,
   "id": "2c8d5164",
   "metadata": {},
   "outputs": [
    {
     "name": "stdout",
     "output_type": "stream",
     "text": [
      "THE CONFUSION MATRIX SCORE OF LSTM ARCHITECTURE:\n",
      "\n",
      "\n",
      " [[ 485   25   53  112   21  101    0   39]\n",
      " [  25   61   20   36    3   34    0   23]\n",
      " [  78   20  730  107   17  100    0   52]\n",
      " [ 127   44  122 1446   52  237    1  185]\n",
      " [  26    4   12   56  337   38    0    8]\n",
      " [ 140   30   82  231   36  723    0   85]\n",
      " [   2    2    0    0    0    2   17    0]\n",
      " [  43   25   55  205   10  100    0  334]]\n"
     ]
    }
   ],
   "source": [
    "from sklearn.metrics import confusion_matrix\n",
    "\n",
    "CM = confusion_matrix(y_true_classes,y_pred_classes)\n",
    "\n",
    "print('THE CONFUSION MATRIX SCORE OF LSTM ARCHITECTURE:\\n\\n\\n',CM)"
   ]
  },
  {
   "cell_type": "code",
   "execution_count": 36,
   "id": "91a18df0",
   "metadata": {},
   "outputs": [
    {
     "data": {
      "image/png": "[encoded data removed]",
      "text/plain": [
       "<Figure size 640x480 with 2 Axes>"
      ]
     },
     "metadata": {},
     "output_type": "display_data"
    }
   ],
   "source": [
    "import numpy as np\n",
    "import matplotlib.pyplot as plt\n",
    "from sklearn.metrics import confusion_matrix, ConfusionMatrixDisplay\n",
    "\n",
    "# Assuming you have the y_pred_classes and y_true_classes arrays with predicted and true labels respectively.\n",
    "\n",
    "# Calculate the confusion matrix\n",
    "cm = confusion_matrix(y_true_classes, y_pred_classes)\n",
    "\n",
    "# Display the confusion matrix using ConfusionMatrixDisplay\n",
    "classes = np.arange(cm.shape[0])  # Assuming your classes are integers from 0 to n_classes-1\n",
    "disp = ConfusionMatrixDisplay(confusion_matrix=cm, display_labels=classes)\n",
    "disp.plot(cmap='viridis', values_format='d')\n",
    "\n",
    "plt.title('DISPLAY CONFUSION MATRIX OF LSTM ARCHITECTURE\\n\\n')\n",
    "plt.xlabel('Predicted Label')\n",
    "plt.ylabel('True Label')\n",
    "plt.show()\n"
   ]
  },
  {
   "cell_type": "code",
   "execution_count": null,
   "id": "f9aeded0",
   "metadata": {},
   "outputs": [],
   "source": [
    "def graph():\n",
    "    import matplotlib.pyplot as plt\n",
    "    data=[AC]\n",
    "    alg=\"LSTM ARCHITECTURE\"\n",
    "    plt.figure(figsize=(5,5))\n",
    "    b=plt.bar(alg,data,color=(\"YELLOW\"))\n",
    "    plt.title(\"THE ACCURACY SCORE OF LSTM ARCHITECTURE IS\\n\\n\\n\")\n",
    "    plt.legend(b,data,fontsize=9)\n",
    "graph()"
   ]
  },
  {
   "cell_type": "code",
   "execution_count": null,
   "id": "4171c8be",
   "metadata": {},
   "outputs": [],
   "source": []
  },
  {
   "cell_type": "code",
   "execution_count": null,
   "id": "689e3dcd",
   "metadata": {},
   "outputs": [],
   "source": []
  }
 ],
 "metadata": {
  "kernelspec": {
   "display_name": "Python 3 (ipykernel)",
   "language": "python",
   "name": "python3"
  },
  "language_info": {
   "codemirror_mode": {
    "name": "ipython",
    "version": 3
   },
   "file_extension": ".py",
   "mimetype": "text/x-python",
   "name": "python",
   "nbconvert_exporter": "python",
   "pygments_lexer": "ipython3",
   "version": "3.11.5"
  }
 },
 "nbformat": 4,
 "nbformat_minor": 5
}
